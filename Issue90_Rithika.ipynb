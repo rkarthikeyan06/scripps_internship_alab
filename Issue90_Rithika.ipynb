{
  "nbformat": 4,
  "nbformat_minor": 0,
  "metadata": {
    "colab": {
      "provenance": [],
      "include_colab_link": true
    },
    "kernelspec": {
      "name": "python3",
      "display_name": "Python 3"
    },
    "language_info": {
      "name": "python"
    }
  },
  "cells": [
    {
      "cell_type": "markdown",
      "metadata": {
        "id": "view-in-github",
        "colab_type": "text"
      },
      "source": [
        "<a href=\"https://colab.research.google.com/github/rkarthikeyan06/scripps_internship_alab/blob/main/Issue_90_Test_Copy_Rithika.ipynb\" target=\"_parent\"><img src=\"https://colab.research.google.com/assets/colab-badge.svg\" alt=\"Open In Colab\"/></a>"
      ]
    },
    {
      "cell_type": "markdown",
      "source": [
        "Condensed Code"
      ],
      "metadata": {
        "id": "m_uzKsQCk5mL"
      }
    },
    {
      "cell_type": "code",
      "source": [
        "import pandas as pd\n",
        "import re\n",
        "\n",
        "gene_mapping = {\n",
        "    \"orf1a\": \"ORF1a\",\n",
        "    \"orf1b\": \"ORF1b\",\n",
        "    \"s\": \"S\",\n",
        "    \"orf3a\": \"ORF3a\",\n",
        "    \"e\": \"E\",\n",
        "    \"m\": \"M\",\n",
        "    \"orf6\": \"ORF6\",\n",
        "    \"orf7a\": \"ORF7a\",\n",
        "    \"orf7b\": \"ORF7b\",\n",
        "    \"orf8\": \"ORF8\",\n",
        "    \"n\": \"N\",\n",
        "    \"orf10\": \"ORF10\",\n",
        "}\n",
        "\n",
        "simulated_ES_data = pd.read_csv('scripps.csv.gz')\n",
        "\n",
        "def lineage_mutations_handler_sim_modified(query_lineages, frequency, gene=None):\n",
        "    if gene:\n",
        "        genes = gene.lower().split(\",\")\n",
        "    else:\n",
        "        genes = []\n",
        "    rows = []\n",
        "    columns = set()\n",
        "    mutation_info = {}\n",
        "\n",
        "    for query_lineage in query_lineages:\n",
        "        flattened_response = simulated_ES_data[simulated_ES_data['lineage'] == query_lineage]\n",
        "        if len(flattened_response) > 0:\n",
        "            df_response = flattened_response.assign(\n",
        "                gene=lambda x: x[\"mutation\"].apply(\n",
        "                    lambda k: gene_mapping[k.split(\":\")[0]]\n",
        "                    if k.split(\":\")[0] in gene_mapping\n",
        "                    else k.split(\":\")[0]\n",
        "                ),\n",
        "                ref_aa=lambda x: x[\"mutation\"]\n",
        "                .apply(\n",
        "                    lambda k: re.findall(\"[A-Za-z*]+\", k.split(\":\")[1])[0]\n",
        "                    if \"DEL\" not in k and \"del\" not in k and \"_\" not in k\n",
        "                    else k\n",
        "                )\n",
        "                .str.upper(),\n",
        "                alt_aa=lambda x: x[\"mutation\"]\n",
        "                .apply(\n",
        "                    lambda k: re.findall(\"[A-Za-z*]+\", k.split(\":\")[1])[1]\n",
        "                    if \"DEL\" not in k and \"del\" not in k and \"_\" not in k\n",
        "                    else k.split(\":\")[1]\n",
        "                )\n",
        "                .str.upper(),\n",
        "                codon_num=lambda x: x[\"mutation\"].apply(\n",
        "                    lambda k: int(re.findall(\"[0-9]+\", k.split(\":\")[1])[0])\n",
        "                ),\n",
        "                codon_end=lambda x: x[\"mutation\"].apply(\n",
        "                    lambda k: int(re.findall(\"[0-9]+\", k.split(\":\")[1])[1])\n",
        "                    if \"/\" in k and (\"DEL\" in k or \"del\" in k)\n",
        "                    else None\n",
        "                ),\n",
        "                type=lambda x: x[\"mutation\"].apply(\n",
        "                    lambda k: \"deletion\" if \"DEL\" in k or \"del\" in k else \"substitution\"\n",
        "                ),\n",
        "            )\n",
        "            df_response = df_response[df_response[\"ref_aa\"] != df_response[\"alt_aa\"]]\n",
        "            df_response.loc[:, \"prevalence\"] = (\n",
        "                df_response[\"mutation_count\"] / df_response[\"lineage_count\"]\n",
        "            )\n",
        "            df_response.loc[~df_response[\"codon_end\"].isna(), \"change_length_nt\"] = (\n",
        "                (df_response[\"codon_end\"] - df_response[\"codon_num\"]) + 1\n",
        "            ) * 3\n",
        "            df_response = df_response[df_response[\"prevalence\"] >= frequency].fillna(\"None\")\n",
        "            if genes:\n",
        "                df_response = df_response[df_response[\"gene\"].str.lower().isin(genes)]\n",
        "\n",
        "            for _, row in df_response.iterrows():\n",
        "                lineage = row[\"lineage\"]\n",
        "                mutation = row[\"mutation\"]\n",
        "                mutation_count = row[\"mutation_count\"]\n",
        "                columns.add(mutation)\n",
        "                if lineage not in mutation_info:\n",
        "                    mutation_info[lineage] = {}\n",
        "                mutation_info[lineage][mutation] = {\n",
        "                    \"ref_aa\": row[\"ref_aa\"],\n",
        "                    \"alt_aa\": row[\"alt_aa\"],\n",
        "                    \"codon_num\": row[\"codon_num\"],\n",
        "                    \"codon_end\": row[\"codon_end\"],\n",
        "                    \"type\": row[\"type\"],\n",
        "                    \"prevalence\": row[\"prevalence\"],\n",
        "                    \"change_length_nt\": row[\"change_length_nt\"],\n",
        "                }\n",
        "\n",
        "    column_names = [\"lineage\"] + list(columns)\n",
        "    df_restructured = pd.DataFrame(rows, columns=column_names).fillna(0)\n",
        "    resp = {\"success\": True, \"results\": df_restructured.to_dict(orient=\"records\"), \"mutation_info\": mutation_info}\n",
        "    return resp\n",
        "\n",
        "#filter 75%\n",
        "query_lineages = ['XBB.15', 'XBB.1.16', 'XBB.1.22.2']\n",
        "frequency = 0.75\n",
        "gene = None\n",
        "result = lineage_mutations_handler_sim_modified(query_lineages, frequency, gene)\n",
        "print(result)\n"
      ],
      "metadata": {
        "colab": {
          "base_uri": "https://localhost:8080/"
        },
        "id": "0fO2RQddwGil",
        "outputId": "b129edac-327e-4c1b-ab6e-044dc45bc27a"
      },
      "execution_count": 44,
      "outputs": [
        {
          "output_type": "stream",
          "name": "stdout",
          "text": [
            "{'success': True, 'results': [], 'mutation_info': {'XBB.1.16': {'E:T11A': {'ref_aa': 'T', 'alt_aa': 'A', 'codon_num': 11, 'codon_end': 'None', 'type': 'substitution', 'prevalence': 0.9992396079756675, 'change_length_nt': 'None'}, 'E:T9I': {'ref_aa': 'T', 'alt_aa': 'I', 'codon_num': 9, 'codon_end': 'None', 'type': 'substitution', 'prevalence': 0.9979722879351132, 'change_length_nt': 'None'}, 'M:A63T': {'ref_aa': 'A', 'alt_aa': 'T', 'codon_num': 63, 'codon_end': 'None', 'type': 'substitution', 'prevalence': 0.9741466711726935, 'change_length_nt': 'None'}, 'M:Q19E': {'ref_aa': 'Q', 'alt_aa': 'E', 'codon_num': 19, 'codon_end': 'None', 'type': 'substitution', 'prevalence': 0.933338965866847, 'change_length_nt': 'None'}, 'N:DEL31/33': {'ref_aa': 'N:DEL31/33', 'alt_aa': 'DEL31/33', 'codon_num': 31, 'codon_end': 33.0, 'type': 'deletion', 'prevalence': 0.7653768164920581, 'change_length_nt': 9.0}, 'N:G204R': {'ref_aa': 'G', 'alt_aa': 'R', 'codon_num': 204, 'codon_end': 'None', 'type': 'substitution', 'prevalence': 0.9869043595809395, 'change_length_nt': 'None'}, 'N:P13L': {'ref_aa': 'P', 'alt_aa': 'L', 'codon_num': 13, 'codon_end': 'None', 'type': 'substitution', 'prevalence': 0.9787935113213924, 'change_length_nt': 'None'}, 'N:R203K': {'ref_aa': 'R', 'alt_aa': 'K', 'codon_num': 203, 'codon_end': 'None', 'type': 'substitution', 'prevalence': 1.9845386955052382, 'change_length_nt': 'None'}, 'N:S413R': {'ref_aa': 'S', 'alt_aa': 'R', 'codon_num': 413, 'codon_end': 'None', 'type': 'substitution', 'prevalence': 0.9767657992565055, 'change_length_nt': 'None'}, 'ORF1a:DEL3675/3677': {'ref_aa': 'ORF1A:DEL3675/3677', 'alt_aa': 'DEL3675/3677', 'codon_num': 3675, 'codon_end': 3677.0, 'type': 'deletion', 'prevalence': 0.7848090571138898, 'change_length_nt': 9.0}, 'ORF1a:G1307S': {'ref_aa': 'G', 'alt_aa': 'S', 'codon_num': 1307, 'codon_end': 'None', 'type': 'substitution', 'prevalence': 0.9941703278134505, 'change_length_nt': 'None'}, 'ORF1a:K47R': {'ref_aa': 'K', 'alt_aa': 'R', 'codon_num': 47, 'codon_end': 'None', 'type': 'substitution', 'prevalence': 0.9697532950321054, 'change_length_nt': 'None'}, 'ORF1a:L3027F': {'ref_aa': 'L', 'alt_aa': 'F', 'codon_num': 3027, 'codon_end': 'None', 'type': 'substitution', 'prevalence': 0.9573335586346738, 'change_length_nt': 'None'}, 'ORF1a:L3201F': {'ref_aa': 'L', 'alt_aa': 'F', 'codon_num': 3201, 'codon_end': 'None', 'type': 'substitution', 'prevalence': 0.979300439337614, 'change_length_nt': 'None'}, 'ORF1a:L3829F': {'ref_aa': 'L', 'alt_aa': 'F', 'codon_num': 3829, 'codon_end': 'None', 'type': 'substitution', 'prevalence': 0.9907908077053058, 'change_length_nt': 'None'}, 'ORF1a:P3395H': {'ref_aa': 'P', 'alt_aa': 'H', 'codon_num': 3395, 'codon_end': 'None', 'type': 'substitution', 'prevalence': 0.9945082798242649, 'change_length_nt': 'None'}, 'ORF1a:S135R': {'ref_aa': 'S', 'alt_aa': 'R', 'codon_num': 135, 'codon_end': 'None', 'type': 'substitution', 'prevalence': 0.981750591416019, 'change_length_nt': 'None'}, 'ORF1a:T3090I': {'ref_aa': 'T', 'alt_aa': 'I', 'codon_num': 3090, 'codon_end': 'None', 'type': 'substitution', 'prevalence': 0.9538695505238256, 'change_length_nt': 'None'}, 'ORF1a:T3255I': {'ref_aa': 'T', 'alt_aa': 'I', 'codon_num': 3255, 'codon_end': 'None', 'type': 'substitution', 'prevalence': 0.9870733355863467, 'change_length_nt': 'None'}, 'ORF1a:T842I': {'ref_aa': 'T', 'alt_aa': 'I', 'codon_num': 842, 'codon_end': 'None', 'type': 'substitution', 'prevalence': 0.9813281514025008, 'change_length_nt': 'None'}, 'ORF1b:D1746Y': {'ref_aa': 'D', 'alt_aa': 'Y', 'codon_num': 1746, 'codon_end': 'None', 'type': 'substitution', 'prevalence': 0.9919736397431564, 'change_length_nt': 'None'}, 'ORF1b:G662S': {'ref_aa': 'G', 'alt_aa': 'S', 'codon_num': 662, 'codon_end': 'None', 'type': 'substitution', 'prevalence': 0.988340655626901, 'change_length_nt': 'None'}, 'ORF1b:I1566V': {'ref_aa': 'I', 'alt_aa': 'V', 'codon_num': 1566, 'codon_end': 'None', 'type': 'substitution', 'prevalence': 0.9701757350456235, 'change_length_nt': 'None'}, 'ORF1b:P314L': {'ref_aa': 'P', 'alt_aa': 'L', 'codon_num': 314, 'codon_end': 'None', 'type': 'substitution', 'prevalence': 0.9912132477188239, 'change_length_nt': 'None'}, 'ORF1b:R1315C': {'ref_aa': 'R', 'alt_aa': 'C', 'codon_num': 1315, 'codon_end': 'None', 'type': 'substitution', 'prevalence': 0.9989861439675566, 'change_length_nt': 'None'}, 'ORF1b:S959P': {'ref_aa': 'S', 'alt_aa': 'P', 'codon_num': 959, 'codon_end': 'None', 'type': 'substitution', 'prevalence': 0.9846231835079419, 'change_length_nt': 'None'}, 'ORF1b:T2163I': {'ref_aa': 'T', 'alt_aa': 'I', 'codon_num': 2163, 'codon_end': 'None', 'type': 'substitution', 'prevalence': 0.9748225751943224, 'change_length_nt': 'None'}, 'ORF3a:T223I': {'ref_aa': 'T', 'alt_aa': 'I', 'codon_num': 223, 'codon_end': 'None', 'type': 'substitution', 'prevalence': 0.9933254477864143, 'change_length_nt': 'None'}, 'ORF6:D61L': {'ref_aa': 'D', 'alt_aa': 'L', 'codon_num': 61, 'codon_end': 'None', 'type': 'substitution', 'prevalence': 2.935789117945252, 'change_length_nt': 'None'}, 'ORF8:G8*': {'ref_aa': 'G', 'alt_aa': '*', 'codon_num': 8, 'codon_end': 'None', 'type': 'substitution', 'prevalence': 0.8306015545792498, 'change_length_nt': 'None'}, 'ORF8:S84L': {'ref_aa': 'S', 'alt_aa': 'L', 'codon_num': 84, 'codon_end': 'None', 'type': 'substitution', 'prevalence': 0.9824264954376478, 'change_length_nt': 'None'}, 'S:D405N': {'ref_aa': 'D', 'alt_aa': 'N', 'codon_num': 405, 'codon_end': 'None', 'type': 'substitution', 'prevalence': 0.8159851301115242, 'change_length_nt': 'None'}, 'S:D614G': {'ref_aa': 'D', 'alt_aa': 'G', 'codon_num': 614, 'codon_end': 'None', 'type': 'substitution', 'prevalence': 0.9887630956404191, 'change_length_nt': 'None'}, 'S:D796Y': {'ref_aa': 'D', 'alt_aa': 'Y', 'codon_num': 796, 'codon_end': 'None', 'type': 'substitution', 'prevalence': 0.9712740790807706, 'change_length_nt': 'None'}, 'S:DEL25/27': {'ref_aa': 'S:DEL25/27', 'alt_aa': 'DEL25/27', 'codon_num': 25, 'codon_end': 27.0, 'type': 'deletion', 'prevalence': 0.7742480567759378, 'change_length_nt': 9.0}, 'S:E180V': {'ref_aa': 'E', 'alt_aa': 'V', 'codon_num': 180, 'codon_end': 'None', 'type': 'substitution', 'prevalence': 0.9218485974991552, 'change_length_nt': 'None'}, 'S:E484A': {'ref_aa': 'E', 'alt_aa': 'A', 'codon_num': 484, 'codon_end': 'None', 'type': 'substitution', 'prevalence': 0.8180973301791146, 'change_length_nt': 'None'}, 'S:F486P': {'ref_aa': 'F', 'alt_aa': 'P', 'codon_num': 486, 'codon_end': 'None', 'type': 'substitution', 'prevalence': 1.6243663399797228, 'change_length_nt': 'None'}, 'S:F490S': {'ref_aa': 'F', 'alt_aa': 'S', 'codon_num': 490, 'codon_end': 'None', 'type': 'substitution', 'prevalence': 0.8389658668469078, 'change_length_nt': 'None'}, 'S:G142D': {'ref_aa': 'G', 'alt_aa': 'D', 'codon_num': 142, 'codon_end': 'None', 'type': 'substitution', 'prevalence': 0.9365495099695843, 'change_length_nt': 'None'}, 'S:G252V': {'ref_aa': 'G', 'alt_aa': 'V', 'codon_num': 252, 'codon_end': 'None', 'type': 'substitution', 'prevalence': 0.8196181142277796, 'change_length_nt': 'None'}, 'S:G339H': {'ref_aa': 'G', 'alt_aa': 'H', 'codon_num': 339, 'codon_end': 'None', 'type': 'substitution', 'prevalence': 1.816492058127746, 'change_length_nt': 'None'}, 'S:G446S': {'ref_aa': 'G', 'alt_aa': 'S', 'codon_num': 446, 'codon_end': 'None', 'type': 'substitution', 'prevalence': 0.8303480905711389, 'change_length_nt': 'None'}, 'S:H146Q': {'ref_aa': 'H', 'alt_aa': 'Q', 'codon_num': 146, 'codon_end': 'None', 'type': 'substitution', 'prevalence': 0.9073166610341331, 'change_length_nt': 'None'}, 'S:H655Y': {'ref_aa': 'H', 'alt_aa': 'Y', 'codon_num': 655, 'codon_end': 'None', 'type': 'substitution', 'prevalence': 0.9854680635349781, 'change_length_nt': 'None'}, 'S:L24S': {'ref_aa': 'L', 'alt_aa': 'S', 'codon_num': 24, 'codon_end': 'None', 'type': 'substitution', 'prevalence': 2.3277289624873267, 'change_length_nt': 'None'}, 'S:L368I': {'ref_aa': 'L', 'alt_aa': 'I', 'codon_num': 368, 'codon_end': 'None', 'type': 'substitution', 'prevalence': 0.8190266982088543, 'change_length_nt': 'None'}, 'S:N440K': {'ref_aa': 'N', 'alt_aa': 'K', 'codon_num': 440, 'codon_end': 'None', 'type': 'substitution', 'prevalence': 0.8098175059141602, 'change_length_nt': 'None'}, 'S:N460K': {'ref_aa': 'N', 'alt_aa': 'K', 'codon_num': 460, 'codon_end': 'None', 'type': 'substitution', 'prevalence': 0.8429368029739777, 'change_length_nt': 'None'}, 'S:N501Y': {'ref_aa': 'N', 'alt_aa': 'Y', 'codon_num': 501, 'codon_end': 'None', 'type': 'substitution', 'prevalence': 0.8331361946603583, 'change_length_nt': 'None'}, 'S:N679K': {'ref_aa': 'N', 'alt_aa': 'K', 'codon_num': 679, 'codon_end': 'None', 'type': 'substitution', 'prevalence': 0.9851301115241635, 'change_length_nt': 'None'}, 'S:N764K': {'ref_aa': 'N', 'alt_aa': 'K', 'codon_num': 764, 'codon_end': 'None', 'type': 'substitution', 'prevalence': 0.9531936465021967, 'change_length_nt': 'None'}, 'S:N969K': {'ref_aa': 'N', 'alt_aa': 'K', 'codon_num': 969, 'codon_end': 'None', 'type': 'substitution', 'prevalence': 0.9911287597161204, 'change_length_nt': 'None'}, 'S:P681H': {'ref_aa': 'P', 'alt_aa': 'H', 'codon_num': 681, 'codon_end': 'None', 'type': 'substitution', 'prevalence': 0.9849611355187563, 'change_length_nt': 'None'}, 'S:Q183E': {'ref_aa': 'Q', 'alt_aa': 'E', 'codon_num': 183, 'codon_end': 'None', 'type': 'substitution', 'prevalence': 0.9433085501858736, 'change_length_nt': 'None'}, 'S:Q498R': {'ref_aa': 'Q', 'alt_aa': 'R', 'codon_num': 498, 'codon_end': 'None', 'type': 'substitution', 'prevalence': 0.8332206826630618, 'change_length_nt': 'None'}, 'S:Q954H': {'ref_aa': 'Q', 'alt_aa': 'H', 'codon_num': 954, 'codon_end': 'None', 'type': 'substitution', 'prevalence': 0.992311591753971, 'change_length_nt': 'None'}, 'S:R346T': {'ref_aa': 'R', 'alt_aa': 'T', 'codon_num': 346, 'codon_end': 'None', 'type': 'substitution', 'prevalence': 0.8737749239607976, 'change_length_nt': 'None'}, 'S:S371F': {'ref_aa': 'S', 'alt_aa': 'F', 'codon_num': 371, 'codon_end': 'None', 'type': 'substitution', 'prevalence': 0.8099864819195675, 'change_length_nt': 'None'}, 'S:S373P': {'ref_aa': 'S', 'alt_aa': 'P', 'codon_num': 373, 'codon_end': 'None', 'type': 'substitution', 'prevalence': 0.8136194660358229, 'change_length_nt': 'None'}, 'S:S375F': {'ref_aa': 'S', 'alt_aa': 'F', 'codon_num': 375, 'codon_end': 'None', 'type': 'substitution', 'prevalence': 0.7991720175735045, 'change_length_nt': 'None'}, 'S:S477N': {'ref_aa': 'S', 'alt_aa': 'N', 'codon_num': 477, 'codon_end': 'None', 'type': 'substitution', 'prevalence': 0.8312774586008786, 'change_length_nt': 'None'}, 'S:T19I': {'ref_aa': 'T', 'alt_aa': 'I', 'codon_num': 19, 'codon_end': 'None', 'type': 'substitution', 'prevalence': 0.9438999662047989, 'change_length_nt': 'None'}, 'S:T376A': {'ref_aa': 'T', 'alt_aa': 'A', 'codon_num': 376, 'codon_end': 'None', 'type': 'substitution', 'prevalence': 0.7968908415005069, 'change_length_nt': 'None'}, 'S:T478R': {'ref_aa': 'T', 'alt_aa': 'R', 'codon_num': 478, 'codon_end': 'None', 'type': 'substitution', 'prevalence': 0.8248563703954038, 'change_length_nt': 'None'}, 'S:V213E': {'ref_aa': 'V', 'alt_aa': 'E', 'codon_num': 213, 'codon_end': 'None', 'type': 'substitution', 'prevalence': 0.9436465021966881, 'change_length_nt': 'None'}, 'S:V445P': {'ref_aa': 'V', 'alt_aa': 'P', 'codon_num': 445, 'codon_end': 'None', 'type': 'substitution', 'prevalence': 1.6568097330179115, 'change_length_nt': 'None'}, 'S:V83A': {'ref_aa': 'V', 'alt_aa': 'A', 'codon_num': 83, 'codon_end': 'None', 'type': 'substitution', 'prevalence': 0.8792666441365327, 'change_length_nt': 'None'}, 'S:Y505H': {'ref_aa': 'Y', 'alt_aa': 'H', 'codon_num': 505, 'codon_end': 'None', 'type': 'substitution', 'prevalence': 0.8254477864143291, 'change_length_nt': 'None'}}, 'XBB.1.22.2': {'E:T11A': {'ref_aa': 'T', 'alt_aa': 'A', 'codon_num': 11, 'codon_end': 'None', 'type': 'substitution', 'prevalence': 1.0, 'change_length_nt': 'None'}, 'E:T9I': {'ref_aa': 'T', 'alt_aa': 'I', 'codon_num': 9, 'codon_end': 'None', 'type': 'substitution', 'prevalence': 1.0, 'change_length_nt': 'None'}, 'M:A63T': {'ref_aa': 'A', 'alt_aa': 'T', 'codon_num': 63, 'codon_end': 'None', 'type': 'substitution', 'prevalence': 1.0, 'change_length_nt': 'None'}, 'M:Q19E': {'ref_aa': 'Q', 'alt_aa': 'E', 'codon_num': 19, 'codon_end': 'None', 'type': 'substitution', 'prevalence': 0.978891820580475, 'change_length_nt': 'None'}, 'N:DEL31/33': {'ref_aa': 'N:DEL31/33', 'alt_aa': 'DEL31/33', 'codon_num': 31, 'codon_end': 33.0, 'type': 'deletion', 'prevalence': 0.9841688654353562, 'change_length_nt': 9.0}, 'N:G204R': {'ref_aa': 'G', 'alt_aa': 'R', 'codon_num': 204, 'codon_end': 'None', 'type': 'substitution', 'prevalence': 0.9920844327176781, 'change_length_nt': 'None'}, 'N:P13L': {'ref_aa': 'P', 'alt_aa': 'L', 'codon_num': 13, 'codon_end': 'None', 'type': 'substitution', 'prevalence': 0.9815303430079155, 'change_length_nt': 'None'}, 'N:R203K': {'ref_aa': 'R', 'alt_aa': 'K', 'codon_num': 203, 'codon_end': 'None', 'type': 'substitution', 'prevalence': 1.9841688654353562, 'change_length_nt': 'None'}, 'N:S413R': {'ref_aa': 'S', 'alt_aa': 'R', 'codon_num': 413, 'codon_end': 'None', 'type': 'substitution', 'prevalence': 0.9630606860158312, 'change_length_nt': 'None'}, 'ORF1a:DEL3675/3677': {'ref_aa': 'ORF1A:DEL3675/3677', 'alt_aa': 'DEL3675/3677', 'codon_num': 3675, 'codon_end': 3677.0, 'type': 'deletion', 'prevalence': 0.978891820580475, 'change_length_nt': 9.0}, 'ORF1a:G1307S': {'ref_aa': 'G', 'alt_aa': 'S', 'codon_num': 1307, 'codon_end': 'None', 'type': 'substitution', 'prevalence': 0.9973614775725593, 'change_length_nt': 'None'}, 'ORF1a:K47R': {'ref_aa': 'K', 'alt_aa': 'R', 'codon_num': 47, 'codon_end': 'None', 'type': 'substitution', 'prevalence': 0.9525065963060686, 'change_length_nt': 'None'}, 'ORF1a:L3027F': {'ref_aa': 'L', 'alt_aa': 'F', 'codon_num': 3027, 'codon_end': 'None', 'type': 'substitution', 'prevalence': 0.9841688654353562, 'change_length_nt': 'None'}, 'ORF1a:L3201F': {'ref_aa': 'L', 'alt_aa': 'F', 'codon_num': 3201, 'codon_end': 'None', 'type': 'substitution', 'prevalence': 0.9868073878627969, 'change_length_nt': 'None'}, 'ORF1a:L3829F': {'ref_aa': 'L', 'alt_aa': 'F', 'codon_num': 3829, 'codon_end': 'None', 'type': 'substitution', 'prevalence': 0.9920844327176781, 'change_length_nt': 'None'}, 'ORF1a:P3395H': {'ref_aa': 'P', 'alt_aa': 'H', 'codon_num': 3395, 'codon_end': 'None', 'type': 'substitution', 'prevalence': 0.9973614775725593, 'change_length_nt': 'None'}, 'ORF1a:S135R': {'ref_aa': 'S', 'alt_aa': 'R', 'codon_num': 135, 'codon_end': 'None', 'type': 'substitution', 'prevalence': 0.9868073878627969, 'change_length_nt': 'None'}, 'ORF1a:T3090I': {'ref_aa': 'T', 'alt_aa': 'I', 'codon_num': 3090, 'codon_end': 'None', 'type': 'substitution', 'prevalence': 0.9947229551451188, 'change_length_nt': 'None'}, 'ORF1a:T3255I': {'ref_aa': 'T', 'alt_aa': 'I', 'codon_num': 3255, 'codon_end': 'None', 'type': 'substitution', 'prevalence': 0.9973614775725593, 'change_length_nt': 'None'}, 'ORF1a:T842I': {'ref_aa': 'T', 'alt_aa': 'I', 'codon_num': 842, 'codon_end': 'None', 'type': 'substitution', 'prevalence': 0.9894459102902374, 'change_length_nt': 'None'}, 'ORF1b:G662S': {'ref_aa': 'G', 'alt_aa': 'S', 'codon_num': 662, 'codon_end': 'None', 'type': 'substitution', 'prevalence': 0.9129287598944591, 'change_length_nt': 'None'}, 'ORF1b:I1566V': {'ref_aa': 'I', 'alt_aa': 'V', 'codon_num': 1566, 'codon_end': 'None', 'type': 'substitution', 'prevalence': 0.9920844327176781, 'change_length_nt': 'None'}, 'ORF1b:P314L': {'ref_aa': 'P', 'alt_aa': 'L', 'codon_num': 314, 'codon_end': 'None', 'type': 'substitution', 'prevalence': 1.0, 'change_length_nt': 'None'}, 'ORF1b:R1315C': {'ref_aa': 'R', 'alt_aa': 'C', 'codon_num': 1315, 'codon_end': 'None', 'type': 'substitution', 'prevalence': 1.0, 'change_length_nt': 'None'}, 'ORF1b:S959P': {'ref_aa': 'S', 'alt_aa': 'P', 'codon_num': 959, 'codon_end': 'None', 'type': 'substitution', 'prevalence': 1.0, 'change_length_nt': 'None'}, 'ORF1b:T2163I': {'ref_aa': 'T', 'alt_aa': 'I', 'codon_num': 2163, 'codon_end': 'None', 'type': 'substitution', 'prevalence': 0.9551451187335093, 'change_length_nt': 'None'}, 'ORF3a:T223I': {'ref_aa': 'T', 'alt_aa': 'I', 'codon_num': 223, 'codon_end': 'None', 'type': 'substitution', 'prevalence': 0.9868073878627969, 'change_length_nt': 'None'}, 'ORF6:D61L': {'ref_aa': 'D', 'alt_aa': 'L', 'codon_num': 61, 'codon_end': 'None', 'type': 'substitution', 'prevalence': 2.920844327176781, 'change_length_nt': 'None'}, 'ORF8:G8*': {'ref_aa': 'G', 'alt_aa': '*', 'codon_num': 8, 'codon_end': 'None', 'type': 'substitution', 'prevalence': 0.941952506596306, 'change_length_nt': 'None'}, 'ORF8:S84L': {'ref_aa': 'S', 'alt_aa': 'L', 'codon_num': 84, 'codon_end': 'None', 'type': 'substitution', 'prevalence': 0.9551451187335093, 'change_length_nt': 'None'}, 'S:D405N': {'ref_aa': 'D', 'alt_aa': 'N', 'codon_num': 405, 'codon_end': 'None', 'type': 'substitution', 'prevalence': 0.9340369393139841, 'change_length_nt': 'None'}, 'S:D614G': {'ref_aa': 'D', 'alt_aa': 'G', 'codon_num': 614, 'codon_end': 'None', 'type': 'substitution', 'prevalence': 1.0, 'change_length_nt': 'None'}, 'S:D796Y': {'ref_aa': 'D', 'alt_aa': 'Y', 'codon_num': 796, 'codon_end': 'None', 'type': 'substitution', 'prevalence': 0.9920844327176781, 'change_length_nt': 'None'}, 'S:DEL144/144': {'ref_aa': 'S:DEL144/144', 'alt_aa': 'DEL144/144', 'codon_num': 144, 'codon_end': 144.0, 'type': 'deletion', 'prevalence': 0.9182058047493403, 'change_length_nt': 3.0}, 'S:DEL25/27': {'ref_aa': 'S:DEL25/27', 'alt_aa': 'DEL25/27', 'codon_num': 25, 'codon_end': 27.0, 'type': 'deletion', 'prevalence': 0.9445910290237467, 'change_length_nt': 9.0}, 'S:E484A': {'ref_aa': 'E', 'alt_aa': 'A', 'codon_num': 484, 'codon_end': 'None', 'type': 'substitution', 'prevalence': 0.9472295514511874, 'change_length_nt': 'None'}, 'S:F486P': {'ref_aa': 'F', 'alt_aa': 'P', 'codon_num': 486, 'codon_end': 'None', 'type': 'substitution', 'prevalence': 1.8997361477572559, 'change_length_nt': 'None'}, 'S:F490S': {'ref_aa': 'F', 'alt_aa': 'S', 'codon_num': 490, 'codon_end': 'None', 'type': 'substitution', 'prevalence': 0.9498680738786279, 'change_length_nt': 'None'}, 'S:G142D': {'ref_aa': 'G', 'alt_aa': 'D', 'codon_num': 142, 'codon_end': 'None', 'type': 'substitution', 'prevalence': 0.9313984168865436, 'change_length_nt': 'None'}, 'S:G252V': {'ref_aa': 'G', 'alt_aa': 'V', 'codon_num': 252, 'codon_end': 'None', 'type': 'substitution', 'prevalence': 0.7810026385224275, 'change_length_nt': 'None'}, 'S:G339H': {'ref_aa': 'G', 'alt_aa': 'H', 'codon_num': 339, 'codon_end': 'None', 'type': 'substitution', 'prevalence': 1.9472295514511873, 'change_length_nt': 'None'}, 'S:G446S': {'ref_aa': 'G', 'alt_aa': 'S', 'codon_num': 446, 'codon_end': 'None', 'type': 'substitution', 'prevalence': 0.941952506596306, 'change_length_nt': 'None'}, 'S:H146Q': {'ref_aa': 'H', 'alt_aa': 'Q', 'codon_num': 146, 'codon_end': 'None', 'type': 'substitution', 'prevalence': 0.8918205804749341, 'change_length_nt': 'None'}, 'S:H655Y': {'ref_aa': 'H', 'alt_aa': 'Y', 'codon_num': 655, 'codon_end': 'None', 'type': 'substitution', 'prevalence': 1.0, 'change_length_nt': 'None'}, 'S:K417N': {'ref_aa': 'K', 'alt_aa': 'N', 'codon_num': 417, 'codon_end': 'None', 'type': 'substitution', 'prevalence': 0.9261213720316622, 'change_length_nt': 'None'}, 'S:L24S': {'ref_aa': 'L', 'alt_aa': 'S', 'codon_num': 24, 'codon_end': 'None', 'type': 'substitution', 'prevalence': 2.8337730870712403, 'change_length_nt': 'None'}, 'S:L368I': {'ref_aa': 'L', 'alt_aa': 'I', 'codon_num': 368, 'codon_end': 'None', 'type': 'substitution', 'prevalence': 0.9313984168865436, 'change_length_nt': 'None'}, 'S:N440K': {'ref_aa': 'N', 'alt_aa': 'K', 'codon_num': 440, 'codon_end': 'None', 'type': 'substitution', 'prevalence': 0.941952506596306, 'change_length_nt': 'None'}, 'S:N460K': {'ref_aa': 'N', 'alt_aa': 'K', 'codon_num': 460, 'codon_end': 'None', 'type': 'substitution', 'prevalence': 0.941952506596306, 'change_length_nt': 'None'}, 'S:N501Y': {'ref_aa': 'N', 'alt_aa': 'Y', 'codon_num': 501, 'codon_end': 'None', 'type': 'substitution', 'prevalence': 0.9472295514511874, 'change_length_nt': 'None'}, 'S:N679K': {'ref_aa': 'N', 'alt_aa': 'K', 'codon_num': 679, 'codon_end': 'None', 'type': 'substitution', 'prevalence': 0.9920844327176781, 'change_length_nt': 'None'}, 'S:N764K': {'ref_aa': 'N', 'alt_aa': 'K', 'codon_num': 764, 'codon_end': 'None', 'type': 'substitution', 'prevalence': 0.9920844327176781, 'change_length_nt': 'None'}, 'S:N969K': {'ref_aa': 'N', 'alt_aa': 'K', 'codon_num': 969, 'codon_end': 'None', 'type': 'substitution', 'prevalence': 0.9973614775725593, 'change_length_nt': 'None'}, 'S:P681H': {'ref_aa': 'P', 'alt_aa': 'H', 'codon_num': 681, 'codon_end': 'None', 'type': 'substitution', 'prevalence': 0.9973614775725593, 'change_length_nt': 'None'}, 'S:Q183E': {'ref_aa': 'Q', 'alt_aa': 'E', 'codon_num': 183, 'codon_end': 'None', 'type': 'substitution', 'prevalence': 0.9340369393139841, 'change_length_nt': 'None'}, 'S:Q498R': {'ref_aa': 'Q', 'alt_aa': 'R', 'codon_num': 498, 'codon_end': 'None', 'type': 'substitution', 'prevalence': 0.9498680738786279, 'change_length_nt': 'None'}, 'S:Q954H': {'ref_aa': 'Q', 'alt_aa': 'H', 'codon_num': 954, 'codon_end': 'None', 'type': 'substitution', 'prevalence': 0.9973614775725593, 'change_length_nt': 'None'}, 'S:R346T': {'ref_aa': 'R', 'alt_aa': 'T', 'codon_num': 346, 'codon_end': 'None', 'type': 'substitution', 'prevalence': 0.9736147757255936, 'change_length_nt': 'None'}, 'S:R408S': {'ref_aa': 'R', 'alt_aa': 'S', 'codon_num': 408, 'codon_end': 'None', 'type': 'substitution', 'prevalence': 0.8970976253298153, 'change_length_nt': 'None'}, 'S:S371F': {'ref_aa': 'S', 'alt_aa': 'F', 'codon_num': 371, 'codon_end': 'None', 'type': 'substitution', 'prevalence': 0.9182058047493403, 'change_length_nt': 'None'}, 'S:S373P': {'ref_aa': 'S', 'alt_aa': 'P', 'codon_num': 373, 'codon_end': 'None', 'type': 'substitution', 'prevalence': 0.920844327176781, 'change_length_nt': 'None'}, 'S:S375F': {'ref_aa': 'S', 'alt_aa': 'F', 'codon_num': 375, 'codon_end': 'None', 'type': 'substitution', 'prevalence': 0.9155672823218998, 'change_length_nt': 'None'}, 'S:S477N': {'ref_aa': 'S', 'alt_aa': 'N', 'codon_num': 477, 'codon_end': 'None', 'type': 'substitution', 'prevalence': 0.9393139841688655, 'change_length_nt': 'None'}, 'S:T19I': {'ref_aa': 'T', 'alt_aa': 'I', 'codon_num': 19, 'codon_end': 'None', 'type': 'substitution', 'prevalence': 0.920844327176781, 'change_length_nt': 'None'}, 'S:T376A': {'ref_aa': 'T', 'alt_aa': 'A', 'codon_num': 376, 'codon_end': 'None', 'type': 'substitution', 'prevalence': 0.9050131926121372, 'change_length_nt': 'None'}, 'S:T478K': {'ref_aa': 'T', 'alt_aa': 'K', 'codon_num': 478, 'codon_end': 'None', 'type': 'substitution', 'prevalence': 0.9498680738786279, 'change_length_nt': 'None'}, 'S:V213E': {'ref_aa': 'V', 'alt_aa': 'E', 'codon_num': 213, 'codon_end': 'None', 'type': 'substitution', 'prevalence': 0.9340369393139841, 'change_length_nt': 'None'}, 'S:V445P': {'ref_aa': 'V', 'alt_aa': 'P', 'codon_num': 445, 'codon_end': 'None', 'type': 'substitution', 'prevalence': 1.883905013192612, 'change_length_nt': 'None'}, 'S:V83A': {'ref_aa': 'V', 'alt_aa': 'A', 'codon_num': 83, 'codon_end': 'None', 'type': 'substitution', 'prevalence': 0.941952506596306, 'change_length_nt': 'None'}, 'S:Y505H': {'ref_aa': 'Y', 'alt_aa': 'H', 'codon_num': 505, 'codon_end': 'None', 'type': 'substitution', 'prevalence': 0.9551451187335093, 'change_length_nt': 'None'}}}}\n"
          ]
        }
      ]
    },
    {
      "cell_type": "code",
      "source": [
        "import pandas as pd\n",
        "\n",
        "def lineage_mutations_handler_sim_modified(query_lineages, frequency, gene=None):\n",
        "    simulated_ES_data = pd.read_csv('scripps.csv.gz')\n",
        "\n",
        "    filtered_data = simulated_ES_data[simulated_ES_data['lineage'].isin(query_lineages)].copy()\n",
        "    filtered_data = filtered_data[filtered_data['mutation_count'] / filtered_data['lineage_count'] >= frequency]\n",
        "\n",
        "    if gene:\n",
        "        genes = gene.lower().split(\",\")\n",
        "        filtered_data = filtered_data[filtered_data['gene'].str.lower().isin(genes)]\n",
        "\n",
        "    result = {\"success\": True, \"results\": []}\n",
        "\n",
        "    return pd.DataFrame([{\"lineage\": lineage, **{row[\"mutation\"]: row[\"mutation_count\"] for _, row in filtered_data[filtered_data['lineage'] == lineage].iterrows()}} for lineage in query_lineages if lineage is not None]).set_index(\"lineage\")\n",
        "\n",
        "\n",
        "query_lineages = ['XBB.1.15', 'XBB.1.16', 'XBB.1.22.2']\n",
        "frequency = 0.75\n",
        "gene = None\n",
        "result = lineage_mutations_handler_sim_modified(query_lineages, frequency, gene)\n",
        "print(result)\n"
      ],
      "metadata": {
        "colab": {
          "base_uri": "https://localhost:8080/"
        },
        "id": "VhSdn2Ys22lQ",
        "outputId": "58366beb-2faa-471f-c5be-ca05bb735fca"
      },
      "execution_count": 46,
      "outputs": [
        {
          "output_type": "stream",
          "name": "stdout",
          "text": [
            "            E:T11A  E:T9I  M:A63T  M:F112F  M:Q19E  N:DEL31/33  N:G204R  \\\n",
            "lineage                                                                   \n",
            "XBB.1.15      2685   2692    2673     2668    2603        2618     2688   \n",
            "XBB.1.16     11827  11812   11530    11519   11047        9059    11681   \n",
            "XBB.1.22.2     379    379     379      375     371         373      376   \n",
            "\n",
            "            N:G30G  N:P13L  N:R203K  ...  ORF1a:L3829F  ORF1b:D1746Y  \\\n",
            "lineage                              ...                               \n",
            "XBB.1.15      7857    2676     5368  ...           NaN           NaN   \n",
            "XBB.1.16     27271   11585    23489  ...       11727.0       11741.0   \n",
            "XBB.1.22.2    1119     372      752  ...         376.0           NaN   \n",
            "\n",
            "            ORF1b:V463V  S:E180V  S:F486P  S:T478R  ORF1a:R4017R  ORF1b:H590H  \\\n",
            "lineage                                                                         \n",
            "XBB.1.15            NaN      NaN      NaN      NaN           NaN          NaN   \n",
            "XBB.1.16        11706.0  10911.0  19226.0   9763.0           NaN          NaN   \n",
            "XBB.1.22.2          NaN      NaN    720.0      NaN         360.0        378.0   \n",
            "\n",
            "            ORF7a:G38G  S:K417N  \n",
            "lineage                          \n",
            "XBB.1.15           NaN      NaN  \n",
            "XBB.1.16           NaN      NaN  \n",
            "XBB.1.22.2       368.0    351.0  \n",
            "\n",
            "[3 rows x 105 columns]\n"
          ]
        }
      ]
    },
    {
      "cell_type": "code",
      "source": [],
      "metadata": {
        "id": "OcaZHT7U22xS"
      },
      "execution_count": 45,
      "outputs": []
    }
  ]
}
